{
 "cells": [
  {
   "cell_type": "code",
   "execution_count": 1,
   "id": "8f877a51",
   "metadata": {},
   "outputs": [],
   "source": [
    "import pandas as pd\n",
    "from sklearn.model_selection import train_test_split, GridSearchCV\n",
    "from sklearn.neighbors import KNeighborsClassifier\n",
    "from sklearn.preprocessing import StandardScaler\n",
    "from sklearn.metrics import classification_report"
   ]
  },
  {
   "cell_type": "code",
   "execution_count": 2,
   "id": "8a0d0148",
   "metadata": {},
   "outputs": [],
   "source": [
    "import pandas as pd"
   ]
  },
  {
   "cell_type": "code",
   "execution_count": 3,
   "id": "722192a2",
   "metadata": {},
   "outputs": [],
   "source": [
    "spreadsheet = pd.read_csv(\"C:/Users/USER/Downloads/ecom_data_rfm.csv\")"
   ]
  },
  {
   "cell_type": "code",
   "execution_count": 4,
   "id": "80a666f2",
   "metadata": {},
   "outputs": [
    {
     "data": {
      "text/html": [
       "<div>\n",
       "<style scoped>\n",
       "    .dataframe tbody tr th:only-of-type {\n",
       "        vertical-align: middle;\n",
       "    }\n",
       "\n",
       "    .dataframe tbody tr th {\n",
       "        vertical-align: top;\n",
       "    }\n",
       "\n",
       "    .dataframe thead th {\n",
       "        text-align: right;\n",
       "    }\n",
       "</style>\n",
       "<table border=\"1\" class=\"dataframe\">\n",
       "  <thead>\n",
       "    <tr style=\"text-align: right;\">\n",
       "      <th></th>\n",
       "      <th>Unnamed: 0</th>\n",
       "      <th>CustomerID</th>\n",
       "      <th>Frequency</th>\n",
       "      <th>Recency</th>\n",
       "      <th>Monetary</th>\n",
       "      <th>rankR</th>\n",
       "      <th>rankF</th>\n",
       "      <th>rankM</th>\n",
       "      <th>groupRFM</th>\n",
       "      <th>Country</th>\n",
       "      <th>Customer_Segment</th>\n",
       "    </tr>\n",
       "  </thead>\n",
       "  <tbody>\n",
       "    <tr>\n",
       "      <th>0</th>\n",
       "      <td>1</td>\n",
       "      <td>12346</td>\n",
       "      <td>2</td>\n",
       "      <td>358</td>\n",
       "      <td>2.08</td>\n",
       "      <td>2</td>\n",
       "      <td>1</td>\n",
       "      <td>1</td>\n",
       "      <td>211</td>\n",
       "      <td>United Kingdom</td>\n",
       "      <td>Lost Lowest</td>\n",
       "    </tr>\n",
       "    <tr>\n",
       "      <th>1</th>\n",
       "      <td>2</td>\n",
       "      <td>12347</td>\n",
       "      <td>182</td>\n",
       "      <td>35</td>\n",
       "      <td>481.21</td>\n",
       "      <td>5</td>\n",
       "      <td>4</td>\n",
       "      <td>3</td>\n",
       "      <td>543</td>\n",
       "      <td>Iceland</td>\n",
       "      <td>Loyal Customers</td>\n",
       "    </tr>\n",
       "    <tr>\n",
       "      <th>2</th>\n",
       "      <td>3</td>\n",
       "      <td>12348</td>\n",
       "      <td>31</td>\n",
       "      <td>108</td>\n",
       "      <td>178.71</td>\n",
       "      <td>5</td>\n",
       "      <td>1</td>\n",
       "      <td>2</td>\n",
       "      <td>512</td>\n",
       "      <td>Finland</td>\n",
       "      <td>Potential Loyalist</td>\n",
       "    </tr>\n",
       "    <tr>\n",
       "      <th>3</th>\n",
       "      <td>4</td>\n",
       "      <td>12349</td>\n",
       "      <td>73</td>\n",
       "      <td>51</td>\n",
       "      <td>605.10</td>\n",
       "      <td>5</td>\n",
       "      <td>2</td>\n",
       "      <td>4</td>\n",
       "      <td>524</td>\n",
       "      <td>Italy</td>\n",
       "      <td>Recent High Spender</td>\n",
       "    </tr>\n",
       "    <tr>\n",
       "      <th>4</th>\n",
       "      <td>5</td>\n",
       "      <td>12350</td>\n",
       "      <td>17</td>\n",
       "      <td>343</td>\n",
       "      <td>65.30</td>\n",
       "      <td>2</td>\n",
       "      <td>1</td>\n",
       "      <td>1</td>\n",
       "      <td>211</td>\n",
       "      <td>Norway</td>\n",
       "      <td>Lost Lowest</td>\n",
       "    </tr>\n",
       "    <tr>\n",
       "      <th>...</th>\n",
       "      <td>...</td>\n",
       "      <td>...</td>\n",
       "      <td>...</td>\n",
       "      <td>...</td>\n",
       "      <td>...</td>\n",
       "      <td>...</td>\n",
       "      <td>...</td>\n",
       "      <td>...</td>\n",
       "      <td>...</td>\n",
       "      <td>...</td>\n",
       "      <td>...</td>\n",
       "    </tr>\n",
       "    <tr>\n",
       "      <th>4375</th>\n",
       "      <td>4376</td>\n",
       "      <td>18280</td>\n",
       "      <td>10</td>\n",
       "      <td>310</td>\n",
       "      <td>47.65</td>\n",
       "      <td>2</td>\n",
       "      <td>1</td>\n",
       "      <td>1</td>\n",
       "      <td>211</td>\n",
       "      <td>United Kingdom</td>\n",
       "      <td>Lost Lowest</td>\n",
       "    </tr>\n",
       "    <tr>\n",
       "      <th>4376</th>\n",
       "      <td>4377</td>\n",
       "      <td>18281</td>\n",
       "      <td>7</td>\n",
       "      <td>213</td>\n",
       "      <td>39.36</td>\n",
       "      <td>3</td>\n",
       "      <td>1</td>\n",
       "      <td>1</td>\n",
       "      <td>311</td>\n",
       "      <td>United Kingdom</td>\n",
       "      <td>About To Sleep</td>\n",
       "    </tr>\n",
       "    <tr>\n",
       "      <th>4377</th>\n",
       "      <td>4378</td>\n",
       "      <td>18282</td>\n",
       "      <td>13</td>\n",
       "      <td>40</td>\n",
       "      <td>62.68</td>\n",
       "      <td>5</td>\n",
       "      <td>1</td>\n",
       "      <td>1</td>\n",
       "      <td>511</td>\n",
       "      <td>United Kingdom</td>\n",
       "      <td>New Customers</td>\n",
       "    </tr>\n",
       "    <tr>\n",
       "      <th>4378</th>\n",
       "      <td>4379</td>\n",
       "      <td>18283</td>\n",
       "      <td>756</td>\n",
       "      <td>36</td>\n",
       "      <td>1220.93</td>\n",
       "      <td>5</td>\n",
       "      <td>5</td>\n",
       "      <td>5</td>\n",
       "      <td>555</td>\n",
       "      <td>United Kingdom</td>\n",
       "      <td>Loyal Customers</td>\n",
       "    </tr>\n",
       "    <tr>\n",
       "      <th>4379</th>\n",
       "      <td>4380</td>\n",
       "      <td>18287</td>\n",
       "      <td>70</td>\n",
       "      <td>75</td>\n",
       "      <td>104.55</td>\n",
       "      <td>5</td>\n",
       "      <td>2</td>\n",
       "      <td>1</td>\n",
       "      <td>521</td>\n",
       "      <td>United Kingdom</td>\n",
       "      <td>Potential Loyalist</td>\n",
       "    </tr>\n",
       "  </tbody>\n",
       "</table>\n",
       "<p>4380 rows × 11 columns</p>\n",
       "</div>"
      ],
      "text/plain": [
       "      Unnamed: 0  CustomerID  Frequency  Recency  Monetary  rankR  rankF  \\\n",
       "0              1       12346          2      358      2.08      2      1   \n",
       "1              2       12347        182       35    481.21      5      4   \n",
       "2              3       12348         31      108    178.71      5      1   \n",
       "3              4       12349         73       51    605.10      5      2   \n",
       "4              5       12350         17      343     65.30      2      1   \n",
       "...          ...         ...        ...      ...       ...    ...    ...   \n",
       "4375        4376       18280         10      310     47.65      2      1   \n",
       "4376        4377       18281          7      213     39.36      3      1   \n",
       "4377        4378       18282         13       40     62.68      5      1   \n",
       "4378        4379       18283        756       36   1220.93      5      5   \n",
       "4379        4380       18287         70       75    104.55      5      2   \n",
       "\n",
       "      rankM  groupRFM         Country     Customer_Segment  \n",
       "0         1       211  United Kingdom          Lost Lowest  \n",
       "1         3       543         Iceland      Loyal Customers  \n",
       "2         2       512         Finland   Potential Loyalist  \n",
       "3         4       524           Italy  Recent High Spender  \n",
       "4         1       211          Norway          Lost Lowest  \n",
       "...     ...       ...             ...                  ...  \n",
       "4375      1       211  United Kingdom          Lost Lowest  \n",
       "4376      1       311  United Kingdom       About To Sleep  \n",
       "4377      1       511  United Kingdom        New Customers  \n",
       "4378      5       555  United Kingdom      Loyal Customers  \n",
       "4379      1       521  United Kingdom   Potential Loyalist  \n",
       "\n",
       "[4380 rows x 11 columns]"
      ]
     },
     "execution_count": 4,
     "metadata": {},
     "output_type": "execute_result"
    }
   ],
   "source": [
    "spreadsheet"
   ]
  },
  {
   "cell_type": "code",
   "execution_count": null,
   "id": "a725a3ce",
   "metadata": {},
   "outputs": [],
   "source": []
  },
  {
   "cell_type": "code",
   "execution_count": 10,
   "id": "3d0efbde",
   "metadata": {},
   "outputs": [
    {
     "name": "stdout",
     "output_type": "stream",
     "text": [
      "               Country Customer_Segment\n",
      "count             4380             4326\n",
      "unique              37                9\n",
      "top     United Kingdom    New Customers\n",
      "freq              3950             1180\n"
     ]
    }
   ],
   "source": [
    "import pandas as pd\n",
    "\n",
    "spreadsheet = pd.read_csv('C:/Users/USER/Downloads/ecom_data_rfm.csv')  # read in the data\n",
    "summary_stats = spreadsheet.describe(include=['object'])   # get summary statistics of the categorical columns\n",
    "\n",
    "print(summary_stats)"
   ]
  },
  {
   "cell_type": "code",
   "execution_count": null,
   "id": "26bbdd75",
   "metadata": {},
   "outputs": [],
   "source": []
  },
  {
   "cell_type": "code",
   "execution_count": 23,
   "id": "b326a533",
   "metadata": {},
   "outputs": [
    {
     "name": "stdout",
     "output_type": "stream",
     "text": [
      "Index(['CustomerID', 'Frequency', 'Recency', 'Monetary', 'rankR', 'rankF',\n",
      "       'rankM', 'groupRFM', 'Country', 'Customer_Segment'],\n",
      "      dtype='object')\n"
     ]
    }
   ],
   "source": [
    "print(spreadsheet.columns)"
   ]
  },
  {
   "cell_type": "code",
   "execution_count": 25,
   "id": "960bb7ab",
   "metadata": {},
   "outputs": [
    {
     "name": "stdout",
     "output_type": "stream",
     "text": [
      "R^2 score: 1.00\n",
      "Mean squared error: 0.01\n"
     ]
    }
   ],
   "source": [
    "import pandas as pd\n",
    "from sklearn.model_selection import train_test_split\n",
    "from sklearn.tree import DecisionTreeRegressor\n",
    "from sklearn.metrics import r2_score, mean_squared_error\n",
    "\n",
    "# Load the dataset\n",
    "spreadsheet = pd.read_csv('C:/Users/USER/Downloads/ecom_data_rfm.csv')\n",
    "\n",
    "# Define the features and target variable\n",
    "X = spreadsheet[['Frequency', 'Recency', 'Monetary']]\n",
    "y = spreadsheet[['rankR', 'rankF', 'rankM']]\n",
    "\n",
    "# Split the data into 80% training data and 20% testing data\n",
    "X_train, X_test, y_train, y_test = train_test_split(X, y, test_size=0.2, random_state=42)\n",
    "\n",
    "# Train a decision tree regression model on the training data\n",
    "tree = DecisionTreeRegressor(random_state=42)\n",
    "tree.fit(X_train, y_train)\n",
    "\n",
    "# Evaluate the model on the testing data\n",
    "y_pred = tree.predict(X_test)\n",
    "r2 = r2_score(y_test, y_pred)\n",
    "mse = mean_squared_error(y_test, y_pred)\n",
    "print(f'R^2 score: {r2:.2f}')\n",
    "print(f'Mean squared error: {mse:.2f}')\n"
   ]
  },
  {
   "cell_type": "code",
   "execution_count": 13,
   "id": "154f9121",
   "metadata": {},
   "outputs": [
    {
     "name": "stdout",
     "output_type": "stream",
     "text": [
      "R^2 score: 1.00\n",
      "Mean squared error: 0.01\n"
     ]
    }
   ],
   "source": [
    "import pandas as pd\n",
    "from sklearn.model_selection import train_test_split\n",
    "from sklearn.tree import DecisionTreeRegressor\n",
    "from sklearn.metrics import r2_score, mean_squared_error\n",
    "\n",
    "# Load the dataset\n",
    "spreadsheet = pd.read_csv('C:/Users/USER/Downloads/ecom_data_rfm.csv')\n",
    "\n",
    "# Define the features and target variable\n",
    "X = spreadsheet[['Frequency', 'Recency', 'Monetary']]\n",
    "y = spreadsheet[['rankR', 'rankF', 'rankM']]\n",
    "\n",
    "# Split the data into 80% training data and 20% testing data with a fixed random seed of 42\n",
    "X_train, X_test, y_train, y_test = train_test_split(X, y, test_size=0.2, random_state=42)\n",
    "\n",
    "# Train a decision tree regression model on the training data with a fixed random seed of 42\n",
    "tree = DecisionTreeRegressor(random_state=42)\n",
    "tree.fit(X_train, y_train)\n",
    "\n",
    "# Evaluate the model on the testing data\n",
    "y_pred = tree.predict(X_test)\n",
    "r2 = r2_score(y_test, y_pred)\n",
    "mse = mean_squared_error(y_test, y_pred)\n",
    "print(f'R^2 score: {r2:.2f}')\n",
    "print(f'Mean squared error: {mse:.2f}')\n"
   ]
  },
  {
   "cell_type": "code",
   "execution_count": 14,
   "id": "e2978123",
   "metadata": {},
   "outputs": [
    {
     "name": "stdout",
     "output_type": "stream",
     "text": [
      "Cross-validated R^2 score: 1.00\n",
      "Cross-validated mean squared error: -1.00\n"
     ]
    }
   ],
   "source": [
    "from sklearn.model_selection import cross_val_score\n",
    "\n",
    "# Calculate cross-validated R^2 score and mean squared error\n",
    "cv_scores = cross_val_score(tree, X, y, cv=5)\n",
    "cv_r2 = cv_scores.mean()\n",
    "cv_mse = -cv_scores.mean()\n",
    "\n",
    "print(f'Cross-validated R^2 score: {cv_r2:.2f}')\n",
    "print(f'Cross-validated mean squared error: {cv_mse:.2f}')\n"
   ]
  },
  {
   "cell_type": "code",
   "execution_count": 15,
   "id": "07b73a92",
   "metadata": {},
   "outputs": [
    {
     "name": "stdout",
     "output_type": "stream",
     "text": [
      "R^2 score: 1.00\n",
      "Mean squared error: 0.01\n",
      "Cross-validated R^2 score: 1.00\n",
      "Cross-validated mean squared error: 0.00\n"
     ]
    }
   ],
   "source": [
    "from sklearn.ensemble import RandomForestRegressor\n",
    "from sklearn.metrics import r2_score, mean_squared_error\n",
    "from sklearn.model_selection import cross_val_score\n",
    "\n",
    "# Load the dataset\n",
    "spreadsheet = pd.read_csv('C:/Users/USER/Downloads/ecom_data_rfm.csv')\n",
    "\n",
    "# Define the features and target variable\n",
    "X = spreadsheet[['Frequency', 'Recency', 'Monetary']]\n",
    "y = spreadsheet[['rankR', 'rankF', 'rankM']]\n",
    "\n",
    "# Split the data into 80% training data and 20% testing data\n",
    "X_train, X_test, y_train, y_test = train_test_split(X, y, test_size=0.2, random_state=42)\n",
    "\n",
    "# Train a random forest regression model on the training data\n",
    "rf = RandomForestRegressor(n_estimators=100, random_state=42)\n",
    "rf.fit(X_train, y_train)\n",
    "\n",
    "# Evaluate the model on the testing data\n",
    "y_pred = rf.predict(X_test)\n",
    "r2 = r2_score(y_test, y_pred)\n",
    "mse = mean_squared_error(y_test, y_pred)\n",
    "print(f'R^2 score: {r2:.2f}')\n",
    "print(f'Mean squared error: {mse:.2f}')\n",
    "\n",
    "# Evaluate the model using cross-validation\n",
    "cv_scores = cross_val_score(rf, X, y, cv=5, scoring='r2')\n",
    "cv_mse_scores = -cross_val_score(rf, X, y, cv=5, scoring='neg_mean_squared_error')\n",
    "print(f'Cross-validated R^2 score: {cv_scores.mean():.2f}')\n",
    "print(f'Cross-validated mean squared error: {cv_mse_scores.mean():.2f}')\n"
   ]
  },
  {
   "cell_type": "code",
   "execution_count": 16,
   "id": "b330077c",
   "metadata": {},
   "outputs": [
    {
     "name": "stdout",
     "output_type": "stream",
     "text": [
      "LinearRegression:\n",
      "Cross-validated R^2 score: 0.52\n",
      "Cross-validated mean squared error: -0.52\n",
      "\n",
      "DecisionTreeRegressor:\n",
      "Cross-validated R^2 score: 1.00\n",
      "Cross-validated mean squared error: -1.00\n",
      "\n",
      "RandomForestRegressor:\n",
      "Cross-validated R^2 score: 1.00\n",
      "Cross-validated mean squared error: -1.00\n",
      "\n"
     ]
    }
   ],
   "source": [
    "import pandas as pd\n",
    "from sklearn.model_selection import cross_val_score\n",
    "from sklearn.linear_model import LinearRegression\n",
    "from sklearn.tree import DecisionTreeRegressor\n",
    "from sklearn.ensemble import RandomForestRegressor\n",
    "from sklearn.metrics import r2_score, mean_squared_error\n",
    "\n",
    "# Load the dataset\n",
    "spreadsheet = pd.read_csv('C:/Users/USER/Downloads/ecom_data_rfm.csv')\n",
    "\n",
    "# Define the features and target variable\n",
    "X = spreadsheet[['Frequency', 'Recency', 'Monetary']]\n",
    "y = spreadsheet[['rankR', 'rankF', 'rankM']]\n",
    "\n",
    "# Create a list of models to try out\n",
    "models = [LinearRegression(), DecisionTreeRegressor(), RandomForestRegressor()]\n",
    "\n",
    "# Loop through each model and evaluate its performance using cross-validation\n",
    "for model in models:\n",
    "    cv_scores = cross_val_score(model, X, y, cv=5, scoring='r2')\n",
    "    print(f'{type(model).__name__}:')\n",
    "    print(f'Cross-validated R^2 score: {cv_scores.mean():.2f}')\n",
    "    print(f'Cross-validated mean squared error: {-1*cv_scores.mean():.2f}\\n')\n"
   ]
  },
  {
   "cell_type": "code",
   "execution_count": null,
   "id": "c45a16ed",
   "metadata": {},
   "outputs": [],
   "source": [
    "It looks like the decision tree and random forest regressors are still performing very well with cross-validation, while the linear regression model has a lower R^2 score and mean squared error. You may want to consider using the random forest regressor as it's performing well and can handle both categorical and numerical features. However, before making a final decision, you should also consider other factors such as model complexity, interpretability, and runtime.\n",
    "\n",
    "Based on the cross-validated R^2 score and mean squared error, it appears that the DecisionTreeRegressor and RandomForestRegressor algorithms perform the best, while LinearRegression performs the worst. Therefore, the ranking of the algorithms from best to worst would be:\n",
    "\n",
    "RandomForestRegressor\n",
    "DecisionTreeRegressor\n",
    "LinearRegression\n",
    "RandomForestRegressor is coming in the first position because it is producing the highest cross-validated R^2 score and the lowest cross-validated mean squared error. This indicates that it is performing better than the other models in predicting the target variable. Additionally, Random Forest is an ensemble method that combines multiple decision trees and reduces the variance of individual decision trees. This makes it more robust to noise and outliers in the data and helps to prevent overfitting.\n",
    "RandomForestRegressor, DecisionTreeRegressor, and LinearRegression are all different algorithms used for regression tasks in machine learning.\n",
    "\n",
    "RandomForestRegressor is an ensemble method that builds multiple decision trees and combines their predictions to improve the overall accuracy and reduce overfitting.\n",
    "DecisionTreeRegressor, on the other hand, is a single decision tree-based algorithm that creates a tree-like model of decisions and their possible consequences.\n",
    "LinearRegression is a linear approach to modeling the relationship between a dependent variable and one or more independent variables by fitting a linear equation to the observed data.\n",
    "Each of these algorithms has its own strengths and weaknesses and can be applied to different types of problems. In this case, RandomForestRegressor seems to perform the best in terms of cross-validated R^2 score and mean squared error."
   ]
  },
  {
   "cell_type": "code",
   "execution_count": 10,
   "id": "ae3b081a",
   "metadata": {},
   "outputs": [],
   "source": []
  },
  {
   "cell_type": "code",
   "execution_count": null,
   "id": "369dc40d",
   "metadata": {},
   "outputs": [],
   "source": []
  },
  {
   "cell_type": "code",
   "execution_count": null,
   "id": "5eb50435",
   "metadata": {
    "scrolled": true
   },
   "outputs": [],
   "source": []
  },
  {
   "cell_type": "code",
   "execution_count": null,
   "id": "563c7cd2",
   "metadata": {},
   "outputs": [],
   "source": []
  },
  {
   "cell_type": "code",
   "execution_count": null,
   "id": "bbdab64a",
   "metadata": {},
   "outputs": [],
   "source": []
  }
 ],
 "metadata": {
  "kernelspec": {
   "display_name": "Python 3 (ipykernel)",
   "language": "python",
   "name": "python3"
  },
  "language_info": {
   "codemirror_mode": {
    "name": "ipython",
    "version": 3
   },
   "file_extension": ".py",
   "mimetype": "text/x-python",
   "name": "python",
   "nbconvert_exporter": "python",
   "pygments_lexer": "ipython3",
   "version": "3.9.12"
  }
 },
 "nbformat": 4,
 "nbformat_minor": 5
}
